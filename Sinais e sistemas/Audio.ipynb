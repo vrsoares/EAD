{
  "nbformat": 4,
  "nbformat_minor": 0,
  "metadata": {
    "colab": {
      "name": "Audio.ipynb",
      "provenance": [],
      "collapsed_sections": []
    },
    "kernelspec": {
      "name": "python3",
      "display_name": "Python 3"
    },
    "language_info": {
      "name": "python"
    }
  },
  "cells": [
    {
      "cell_type": "markdown",
      "metadata": {
        "id": "DZu9RxyhSjDE"
      },
      "source": [
        "<a href=\"https://colab.research.google.com/github/vrsoares/EAD/blob/main/Sinais%20e%20sistemas/Audio.ipynb\" target=\"_parent\">\n",
        "  <img src=\"https://colab.research.google.com/assets/colab-badge.svg\" alt=\"Abrir no Colab\"/>\n",
        "</a>"
      ]
    },
    {
      "cell_type": "code",
      "metadata": {
        "id": "2MbVoy1lR1wQ"
      },
      "source": [
        "from scipy.io import wavfile\n",
        "import scipy.io\n",
        "import matplotlib.pyplot as plt\n",
        "import numpy as np"
      ],
      "execution_count": 2,
      "outputs": []
    },
    {
      "cell_type": "code",
      "metadata": {
        "colab": {
          "base_uri": "https://localhost:8080/"
        },
        "id": "uG7jr1QTiqPq",
        "outputId": "e4bbc2ff-a0dd-479b-edb0-0f483b525b61"
      },
      "source": [
        "!wget https://github.com/vrsoares/EAD/raw/main/Sinais%20e%20sistemas/Exemplos/Exemplo1.wav"
      ],
      "execution_count": 3,
      "outputs": [
        {
          "output_type": "stream",
          "text": [
            "--2021-03-25 18:27:44--  https://github.com/vrsoares/EAD/raw/main/Sinais%20e%20sistemas/Exemplos/Exemplo1.wav\n",
            "Resolving github.com (github.com)... 140.82.114.3\n",
            "Connecting to github.com (github.com)|140.82.114.3|:443... connected.\n",
            "HTTP request sent, awaiting response... 302 Found\n",
            "Location: https://raw.githubusercontent.com/vrsoares/EAD/main/Sinais%20e%20sistemas/Exemplos/Exemplo1.wav [following]\n",
            "--2021-03-25 18:27:44--  https://raw.githubusercontent.com/vrsoares/EAD/main/Sinais%20e%20sistemas/Exemplos/Exemplo1.wav\n",
            "Resolving raw.githubusercontent.com (raw.githubusercontent.com)... 185.199.108.133, 185.199.109.133, 185.199.110.133, ...\n",
            "Connecting to raw.githubusercontent.com (raw.githubusercontent.com)|185.199.108.133|:443... connected.\n",
            "HTTP request sent, awaiting response... 200 OK\n",
            "Length: 1048620 (1.0M) [audio/wav]\n",
            "Saving to: ‘Exemplo1.wav.1’\n",
            "\n",
            "Exemplo1.wav.1      100%[===================>]   1.00M  --.-KB/s    in 0.01s   \n",
            "\n",
            "2021-03-25 18:27:44 (75.5 MB/s) - ‘Exemplo1.wav.1’ saved [1048620/1048620]\n",
            "\n"
          ],
          "name": "stdout"
        }
      ]
    },
    {
      "cell_type": "code",
      "metadata": {
        "id": "rflYKRXsjUta"
      },
      "source": [
        "samplerate, data = wavfile.read(\"/content/Exemplo1.wav\")\n",
        "length = data.shape[0] / samplerate"
      ],
      "execution_count": 6,
      "outputs": []
    },
    {
      "cell_type": "markdown",
      "metadata": {
        "id": "2caqmoy9mkBz"
      },
      "source": [
        "print(f\"number of channels = {data.shape[1]}\")\n",
        "print(f\"length = {length}s\")"
      ]
    },
    {
      "cell_type": "code",
      "metadata": {
        "colab": {
          "base_uri": "https://localhost:8080/",
          "height": 279
        },
        "id": "ahduh5PhlI7n",
        "outputId": "0aa1f787-2879-431e-b4dc-e5f4fdf72bf4"
      },
      "source": [
        "time = np.linspace(0., length, data.shape[0])\n",
        "plt.plot(time, data,)\n",
        "plt.xlabel(\"Tempo [s]\")\n",
        "plt.ylabel(\"Amplitude\")\n",
        "plt.show()"
      ],
      "execution_count": 7,
      "outputs": [
        {
          "output_type": "display_data",
          "data": {
            "image/png": "[encoded data removed]",
            "text/plain": [
              "<Figure size 432x288 with 1 Axes>"
            ]
          },
          "metadata": {
            "tags": [],
            "needs_background": "light"
          }
        }
      ]
    }
  ]
}