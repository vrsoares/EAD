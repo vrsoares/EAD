{
  "nbformat": 4,
  "nbformat_minor": 0,
  "metadata": {
    "colab": {
      "name": "list and sort.ipynb",
      "provenance": [],
      "collapsed_sections": []
    },
    "kernelspec": {
      "name": "python3",
      "display_name": "Python 3"
    }
  },
  "cells": [
    {
      "cell_type": "markdown",
      "metadata": {
        "id": "jwbaeHlpRVgW"
      },
      "source": [
        "<a href=\"https://colab.research.google.com/github/vrsoares/EAD/blob/main/list_and_sort.ipynb\">\n",
        "  <img src=\"https://colab.research.google.com/assets/colab-badge.svg\" alt=\"Open In Colab\"/>\n",
        "</a>"
      ]
    },
    {
      "cell_type": "code",
      "metadata": {
        "id": "LJxTW4nzzcU8"
      },
      "source": [
        "from os import chdir\n",
        "from glob import glob\n",
        "from random import shuffle\n",
        "from math import ceil"
      ],
      "execution_count": null,
      "outputs": []
    },
    {
      "cell_type": "code",
      "metadata": {
        "id": "c6EmyKTd0UHh"
      },
      "source": [
        "chdir('/content/sample_data')\n",
        "#changes the working directory"
      ],
      "execution_count": null,
      "outputs": []
    },
    {
      "cell_type": "code",
      "metadata": {
        "id": "aubESzdAzrMj"
      },
      "source": [
        "lista = glob(\"*.csv\")\n",
        "#creates a list with all the files that meet the requirements inside the ()"
      ],
      "execution_count": null,
      "outputs": []
    },
    {
      "cell_type": "code",
      "metadata": {
        "id": "76fIQvHo2y6u"
      },
      "source": [
        "shuffle(lista)\n",
        "#shuffles the list"
      ],
      "execution_count": null,
      "outputs": []
    },
    {
      "cell_type": "code",
      "metadata": {
        "id": "5OTSeeJr0H8r"
      },
      "source": [
        "percent = 10    #sets the percentage\n",
        "#len(lista)      #gets the size of the list\n",
        "index = ceil(percent*len(lista)/100)  #gets the max index to split the list"
      ],
      "execution_count": null,
      "outputs": []
    },
    {
      "cell_type": "code",
      "metadata": {
        "id": "mCscob8K4N8L"
      },
      "source": [
        "def split_list(a_list):                     #creates a function that splits the list in 2, considering the index calculated before\n",
        "    cut = index\n",
        "    return a_list[:index], a_list[index:]"
      ],
      "execution_count": null,
      "outputs": []
    },
    {
      "cell_type": "code",
      "metadata": {
        "colab": {
          "base_uri": "https://localhost:8080/"
        },
        "id": "lIuN7kbx5iWo",
        "outputId": "3a905dcf-b5a7-4a3b-a753-5089a8068f7a"
      },
      "source": [
        "test, train = split_list(lista)\n",
        "print(test,train,sep='\\n')"
      ],
      "execution_count": null,
      "outputs": [
        {
          "output_type": "stream",
          "text": [
            "['mnist_train_small.csv']\n",
            "['mnist_test.csv', 'california_housing_test.csv', 'california_housing_train.csv']\n"
          ],
          "name": "stdout"
        }
      ]
    },
    {
      "cell_type": "code",
      "metadata": {
        "id": "m1Lqi6118vbw"
      },
      "source": [
        "# Create and/or truncate train.txt and test.txt\n",
        "file_train = open('train.txt', 'w')\n",
        "for i in range(0,len(train)-1):\n",
        "  file_train.write(train[i]+ \"\\n\")\n",
        "file_train.write(train[-1])\n",
        "file_train.close()\n",
        "file_test = open('test.txt', 'w')\n",
        "for i in range(0,len(test)-1):\n",
        "  file_test.write(test[i]+ \"\\n\")\n",
        "file_test.write(test[-1])\n",
        "file_test.close()"
      ],
      "execution_count": null,
      "outputs": []
    }
  ]
}